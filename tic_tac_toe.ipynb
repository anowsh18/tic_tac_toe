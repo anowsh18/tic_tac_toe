{
 "cells": [
  {
   "cell_type": "code",
   "execution_count": 48,
   "id": "b034ffaa-3563-4f29-8c37-24a57afee9f1",
   "metadata": {},
   "outputs": [
    {
     "name": "stdout",
     "output_type": "stream",
     "text": [
      "- | - | -\n",
      "__________\n",
      "- | - | -\n",
      "__________\n",
      "- | - | -\n"
     ]
    },
    {
     "name": "stdin",
     "output_type": "stream",
     "text": [
      "Player X Enter a number 1-9:  6\n"
     ]
    },
    {
     "name": "stdout",
     "output_type": "stream",
     "text": [
      "- | - | -\n",
      "__________\n",
      "- | - | X\n",
      "__________\n",
      "- | - | -\n"
     ]
    },
    {
     "name": "stdin",
     "output_type": "stream",
     "text": [
      "Player O Enter a number 1-9:  3\n"
     ]
    },
    {
     "name": "stdout",
     "output_type": "stream",
     "text": [
      "- | - | O\n",
      "__________\n",
      "- | - | X\n",
      "__________\n",
      "- | - | -\n"
     ]
    },
    {
     "name": "stdin",
     "output_type": "stream",
     "text": [
      "Player X Enter a number 1-9:  2\n"
     ]
    },
    {
     "name": "stdout",
     "output_type": "stream",
     "text": [
      "- | X | O\n",
      "__________\n",
      "- | - | X\n",
      "__________\n",
      "- | - | -\n"
     ]
    },
    {
     "name": "stdin",
     "output_type": "stream",
     "text": [
      "Player O Enter a number 1-9:  1\n"
     ]
    },
    {
     "name": "stdout",
     "output_type": "stream",
     "text": [
      "O | X | O\n",
      "__________\n",
      "- | - | X\n",
      "__________\n",
      "- | - | -\n"
     ]
    },
    {
     "name": "stdin",
     "output_type": "stream",
     "text": [
      "Player X Enter a number 1-9:  4\n"
     ]
    },
    {
     "name": "stdout",
     "output_type": "stream",
     "text": [
      "O | X | O\n",
      "__________\n",
      "X | - | X\n",
      "__________\n",
      "- | - | -\n"
     ]
    },
    {
     "name": "stdin",
     "output_type": "stream",
     "text": [
      "Player O Enter a number 1-9:  6\n"
     ]
    },
    {
     "name": "stdout",
     "output_type": "stream",
     "text": [
      "Invalid input\n"
     ]
    },
    {
     "name": "stdin",
     "output_type": "stream",
     "text": [
      "Player O Enter a number 1-9:  7\n"
     ]
    },
    {
     "name": "stdout",
     "output_type": "stream",
     "text": [
      "O | X | O\n",
      "__________\n",
      "X | - | X\n",
      "__________\n",
      "O | - | -\n"
     ]
    },
    {
     "name": "stdin",
     "output_type": "stream",
     "text": [
      "Player X Enter a number 1-9:  6\n"
     ]
    },
    {
     "name": "stdout",
     "output_type": "stream",
     "text": [
      "Invalid input\n"
     ]
    },
    {
     "name": "stdin",
     "output_type": "stream",
     "text": [
      "Player X Enter a number 1-9:  8\n"
     ]
    },
    {
     "name": "stdout",
     "output_type": "stream",
     "text": [
      "O | X | O\n",
      "__________\n",
      "X | - | X\n",
      "__________\n",
      "O | X | -\n"
     ]
    },
    {
     "name": "stdin",
     "output_type": "stream",
     "text": [
      "Player O Enter a number 1-9:  9\n"
     ]
    },
    {
     "name": "stdout",
     "output_type": "stream",
     "text": [
      "O | X | O\n",
      "__________\n",
      "X | - | X\n",
      "__________\n",
      "O | X | O\n"
     ]
    },
    {
     "name": "stdin",
     "output_type": "stream",
     "text": [
      "Player X Enter a number 1-9:  5\n"
     ]
    },
    {
     "name": "stdout",
     "output_type": "stream",
     "text": [
      "Player:X is the winner\n",
      "O | X | O\n",
      "__________\n",
      "X | X | X\n",
      "__________\n",
      "O | X | O\n"
     ]
    }
   ],
   "source": [
    "board=['-','-','-','-','-','-','-','-','-','-']\n",
    "global board\n",
    "game_status=True\n",
    "global game_status\n",
    "winner=None\n",
    "currentplayer='X'\n",
    "global currentplayer\n",
    "# print board\n",
    "def print_board(board):\n",
    "    print(board[0]+' | '+board[1]+' | '+board[2])\n",
    "    print('__________')\n",
    "    print(board[3]+' | '+board[4]+' | '+board[5])\n",
    "    print('__________')\n",
    "    print(board[6]+' | '+board[7]+' | '+board[8])\n",
    "# take player input\n",
    "def playerInput(board):\n",
    "    while True:\n",
    "        num=int(input(f\"Player {currentplayer} Enter a number 1-9: \"))\n",
    "        if 1<=num<=9 and board[num-1]=='-':\n",
    "            board[num-1]=currentplayer\n",
    "            break\n",
    "        else:\n",
    "            print(\"Invalid input\")\n",
    "def hori_win(board):\n",
    "    if board[0]==board[1]==board[2] and board[0]!='-':\n",
    "        return True\n",
    "    elif board[3]==board[4]==board[5] and board[3]!='-':\n",
    "        return True\n",
    "    elif board[6]==board[7]==board[8] and board[8]!='-':\n",
    "        return True\n",
    "    else:\n",
    "        return False\n",
    "def ver_win(board):\n",
    "    if board[0]==board[3]==board[6] and board[0]!='-':\n",
    "        return True\n",
    "    elif board[1]==board[4]==board[7] and board[1]!='-':\n",
    "        return True\n",
    "    elif board[2]==board[5]==board[8] and board[2]!='-':\n",
    "        return True\n",
    "    else:\n",
    "        return False\n",
    "def dia_win(board):\n",
    "    if board[0]==board[4]==board[8] and board[0]!='-':\n",
    "        return True\n",
    "    elif board[2]==board[4]==board[6] and board[2]!='-':\n",
    "        return True\n",
    "    else:\n",
    "        return False\n",
    "def is_win():\n",
    "    global game_status\n",
    "    if ver_win(board) or dia_win(board) or hori_win(board):\n",
    "        print(f'Player,{currentplayer} is the winner')\n",
    "        print_board(board)\n",
    "        game_status=False\n",
    "def is_tie():\n",
    "    global game_status\n",
    "    if not '-' in board:\n",
    "        print_board(board)\n",
    "        game_status=False\n",
    "        return \"It's a tie\"\n",
    "def switchPlayer():\n",
    "    global currentplayer\n",
    "    if currentplayer=='X':\n",
    "        currentplayer='O'\n",
    "    else:\n",
    "        currentplayer='X'\n",
    "while game_status:\n",
    "    print_board(board)\n",
    "    playerInput(board)\n",
    "    is_win()\n",
    "    if game_status:\n",
    "        is_tie()\n",
    "    if game_status:\n",
    "        switchPlayer()"
   ]
  }
 ],
 "metadata": {
  "kernelspec": {
   "display_name": "Python 3 (ipykernel)",
   "language": "python",
   "name": "python3"
  },
  "language_info": {
   "codemirror_mode": {
    "name": "ipython",
    "version": 3
   },
   "file_extension": ".py",
   "mimetype": "text/x-python",
   "name": "python",
   "nbconvert_exporter": "python",
   "pygments_lexer": "ipython3",
   "version": "3.12.4"
  }
 },
 "nbformat": 4,
 "nbformat_minor": 5
}
